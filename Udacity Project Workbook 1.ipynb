{
 "cells": [
  {
   "cell_type": "markdown",
   "metadata": {},
   "source": [
    "Udacity - CRISP-DM Project - Stock market prediction (Swiss Market Index)\n",
    "\n",
    "# 1. BUSINESS UNDERSTANDING\n",
    "\n",
    "This project is for for identifying features that have predictive value in forecasting price movement of Swiss Market Index, Switzerland’s blue-chip stock market index. We will also train the model using XGBoost, a tree ensemble method and use 20% of the dataset (test data) as validation data.\n",
    "\n",
    "The following are the questions we will answer:\n",
    "1. We have 97 fundamental and technical variables. Some variables are redundant and have little values in making trading decisions. Therefore, we would like to identify the 10 variables that stock traders should use in making trading decisions.\n",
    "\n",
    "2. After identifying the 10 variables, we want to identify which variables serve as buy and sell signals and which variables serve as overbought and oversold signals. For variables generating buy and sell signals, when the values increase/decrease, traders should buy/sell. For variables generating overbought and oversold signals, when the values increase/decrease, traders should sell/buy.\n",
    "\n",
    "3. When traders buy/sell stock, they must choose when to close the trades. Therefore we would like to identify whether it is more profitable for traders to close their trades after 1, 3 or 5 days."
   ]
  },
  {
   "cell_type": "code",
   "execution_count": 1,
   "metadata": {},
   "outputs": [
    {
     "name": "stdout",
     "output_type": "stream",
     "text": [
      "Collecting investpy\n",
      "\u001b[?25l  Downloading https://files.pythonhosted.org/packages/86/54/0dfe3a7200d6ac98bd57cb984a9d2822fcaf842207f4be5559b9bb423765/investpy-1.0.3.tar.gz (4.4MB)\n",
      "\u001b[K    100% |████████████████████████████████| 4.4MB 5.7MB/s eta 0:00:01  2% |▉                               | 112kB 5.0MB/s eta 0:00:01    11% |███▊                            | 512kB 8.0MB/s eta 0:00:01    22% |███████▍                        | 1.0MB 9.9MB/s eta 0:00:01    37% |████████████                    | 1.6MB 14.2MB/s eta 0:00:01\n",
      "\u001b[?25hCollecting Unidecode>=1.1.1 (from investpy)\n",
      "\u001b[?25l  Downloading https://files.pythonhosted.org/packages/9e/25/723487ca2a52ebcee88a34d7d1f5a4b80b793f179ee0f62d5371938dfa01/Unidecode-1.2.0-py2.py3-none-any.whl (241kB)\n",
      "\u001b[K    100% |████████████████████████████████| 245kB 18.8MB/s ta 0:00:01\n",
      "\u001b[?25hCollecting setuptools>=41.2.0 (from investpy)\n",
      "\u001b[?25l  Downloading https://files.pythonhosted.org/packages/60/6a/dd9533ae9367a1f35b1b704e2ac9554a61e6dfa4d97e1d86c3760e1e135d/setuptools-54.1.1-py3-none-any.whl (784kB)\n",
      "\u001b[K    100% |████████████████████████████████| 788kB 14.6MB/s ta 0:00:01\n",
      "\u001b[?25hCollecting numpy>=1.17.2 (from investpy)\n",
      "\u001b[?25l  Downloading https://files.pythonhosted.org/packages/45/b2/6c7545bb7a38754d63048c7696804a0d947328125d81bf12beaa692c3ae3/numpy-1.19.5-cp36-cp36m-manylinux1_x86_64.whl (13.4MB)\n",
      "\u001b[K    100% |████████████████████████████████| 13.4MB 2.7MB/s eta 0:00:01   46% |███████████████                 | 6.2MB 21.8MB/s eta 0:00:01    54% |█████████████████▌              | 7.3MB 19.8MB/s eta 0:00:01    61% |███████████████████▉            | 8.3MB 20.2MB/s eta 0:00:01    76% |████████████████████████▋       | 10.3MB 20.3MB/s eta 0:00:01    91% |█████████████████████████████▍  | 12.3MB 20.3MB/s eta 0:00:01\n",
      "\u001b[?25hCollecting pandas>=0.25.1 (from investpy)\n",
      "\u001b[?25l  Downloading https://files.pythonhosted.org/packages/c3/e2/00cacecafbab071c787019f00ad84ca3185952f6bb9bca9550ed83870d4d/pandas-1.1.5-cp36-cp36m-manylinux1_x86_64.whl (9.5MB)\n",
      "\u001b[K    100% |████████████████████████████████| 9.5MB 4.7MB/s eta 0:00:01   7% |██▎                             | 686kB 17.0MB/s eta 0:00:01    17% |█████▌                          | 1.6MB 21.2MB/s eta 0:00:01    28% |█████████▎                      | 2.7MB 23.0MB/s eta 0:00:01    52% |████████████████▊               | 5.0MB 22.4MB/s eta 0:00:01    63% |████████████████████▍           | 6.1MB 22.7MB/s eta 0:00:01    75% |████████████████████████▏       | 7.2MB 22.7MB/s eta 0:00:01    86% |███████████████████████████▊    | 8.2MB 22.2MB/s eta 0:00:01    98% |███████████████████████████████▌| 9.3MB 23.9MB/s eta 0:00:01\n",
      "\u001b[?25hCollecting lxml>=4.4.1 (from investpy)\n",
      "\u001b[?25l  Downloading https://files.pythonhosted.org/packages/bd/78/56a7c88a57d0d14945472535d0df9fb4bbad7d34ede658ec7961635c790e/lxml-4.6.2-cp36-cp36m-manylinux1_x86_64.whl (5.5MB)\n",
      "\u001b[K    100% |████████████████████████████████| 5.5MB 8.7MB/s eta 0:00:01    19% |██████▍                         | 1.1MB 19.8MB/s eta 0:00:01    73% |███████████████████████▋        | 4.1MB 19.7MB/s eta 0:00:01\n",
      "\u001b[?25hCollecting requests>=2.22.0 (from investpy)\n",
      "\u001b[?25l  Downloading https://files.pythonhosted.org/packages/29/c1/24814557f1d22c56d50280771a17307e6bf87b70727d975fd6b2ce6b014a/requests-2.25.1-py2.py3-none-any.whl (61kB)\n",
      "\u001b[K    100% |████████████████████████████████| 61kB 12.9MB/s ta 0:00:01\n",
      "\u001b[?25hCollecting pytz>=2019.3 (from investpy)\n",
      "\u001b[?25l  Downloading https://files.pythonhosted.org/packages/70/94/784178ca5dd892a98f113cdd923372024dc04b8d40abe77ca76b5fb90ca6/pytz-2021.1-py2.py3-none-any.whl (510kB)\n",
      "\u001b[K    100% |████████████████████████████████| 512kB 16.6MB/s ta 0:00:01\n",
      "\u001b[?25hCollecting python-dateutil>=2.7.3 (from pandas>=0.25.1->investpy)\n",
      "\u001b[?25l  Downloading https://files.pythonhosted.org/packages/d4/70/d60450c3dd48ef87586924207ae8907090de0b306af2bce5d134d78615cb/python_dateutil-2.8.1-py2.py3-none-any.whl (227kB)\n",
      "\u001b[K    100% |████████████████████████████████| 235kB 10.0MB/s ta 0:00:01    63% |████████████████████▏           | 143kB 21.8MB/s eta 0:00:01\n",
      "\u001b[?25hRequirement already satisfied: urllib3<1.27,>=1.21.1 in /opt/conda/lib/python3.6/site-packages (from requests>=2.22.0->investpy) (1.22)\n",
      "Requirement already satisfied: chardet<5,>=3.0.2 in /opt/conda/lib/python3.6/site-packages (from requests>=2.22.0->investpy) (3.0.4)\n",
      "Requirement already satisfied: certifi>=2017.4.17 in /opt/conda/lib/python3.6/site-packages (from requests>=2.22.0->investpy) (2019.11.28)\n",
      "Requirement already satisfied: idna<3,>=2.5 in /opt/conda/lib/python3.6/site-packages (from requests>=2.22.0->investpy) (2.6)\n",
      "Requirement already satisfied: six>=1.5 in /opt/conda/lib/python3.6/site-packages (from python-dateutil>=2.7.3->pandas>=0.25.1->investpy) (1.11.0)\n",
      "Building wheels for collected packages: investpy\n",
      "  Running setup.py bdist_wheel for investpy ... \u001b[?25ldone\n",
      "\u001b[?25h  Stored in directory: /root/.cache/pip/wheels/ef/ef/31/cd22f970a59025c6d6dee56091b1f538d850e932697db1950e\n",
      "Successfully built investpy\n",
      "\u001b[31mtensorflow 1.3.0 requires tensorflow-tensorboard<0.2.0,>=0.1.0, which is not installed.\u001b[0m\n",
      "Installing collected packages: Unidecode, setuptools, numpy, pytz, python-dateutil, pandas, lxml, requests, investpy\n",
      "  Found existing installation: setuptools 38.4.0\n",
      "    Uninstalling setuptools-38.4.0:\n",
      "      Successfully uninstalled setuptools-38.4.0\n",
      "  Found existing installation: numpy 1.12.1\n",
      "    Uninstalling numpy-1.12.1:\n",
      "      Successfully uninstalled numpy-1.12.1\n",
      "  Found existing installation: pytz 2017.3\n",
      "    Uninstalling pytz-2017.3:\n",
      "      Successfully uninstalled pytz-2017.3\n",
      "  Found existing installation: python-dateutil 2.6.1\n",
      "    Uninstalling python-dateutil-2.6.1:\n",
      "      Successfully uninstalled python-dateutil-2.6.1\n",
      "  Found existing installation: pandas 0.23.3\n",
      "    Uninstalling pandas-0.23.3:\n",
      "      Successfully uninstalled pandas-0.23.3\n",
      "  Found existing installation: lxml 4.1.1\n",
      "    Uninstalling lxml-4.1.1:\n",
      "      Successfully uninstalled lxml-4.1.1\n",
      "  Found existing installation: requests 2.18.4\n",
      "    Uninstalling requests-2.18.4:\n",
      "      Successfully uninstalled requests-2.18.4\n",
      "Successfully installed Unidecode-1.2.0 investpy-1.0.3 lxml-4.6.2 numpy-1.19.5 pandas-1.1.5 python-dateutil-2.8.1 pytz-2021.1 requests-2.25.1 setuptools-54.1.1\n",
      "Collecting yfinance\n",
      "  Downloading https://files.pythonhosted.org/packages/7a/e8/b9d7104d3a4bf39924799067592d9e59119fcfc900a425a12e80a3123ec8/yfinance-0.1.55.tar.gz\n",
      "Requirement already satisfied: pandas>=0.24 in /opt/conda/lib/python3.6/site-packages (from yfinance) (1.1.5)\n",
      "Requirement already satisfied: numpy>=1.15 in /opt/conda/lib/python3.6/site-packages (from yfinance) (1.19.5)\n",
      "Requirement already satisfied: requests>=2.20 in /opt/conda/lib/python3.6/site-packages (from yfinance) (2.25.1)\n",
      "Collecting multitasking>=0.0.7 (from yfinance)\n",
      "  Downloading https://files.pythonhosted.org/packages/69/e7/e9f1661c28f7b87abfa08cb0e8f51dad2240a9f4f741f02ea839835e6d18/multitasking-0.0.9.tar.gz\n",
      "Requirement already satisfied: lxml>=4.5.1 in /opt/conda/lib/python3.6/site-packages (from yfinance) (4.6.2)\n",
      "Requirement already satisfied: python-dateutil>=2.7.3 in /opt/conda/lib/python3.6/site-packages (from pandas>=0.24->yfinance) (2.8.1)\n",
      "Requirement already satisfied: pytz>=2017.2 in /opt/conda/lib/python3.6/site-packages (from pandas>=0.24->yfinance) (2021.1)\n",
      "Requirement already satisfied: chardet<5,>=3.0.2 in /opt/conda/lib/python3.6/site-packages (from requests>=2.20->yfinance) (3.0.4)\n",
      "Requirement already satisfied: certifi>=2017.4.17 in /opt/conda/lib/python3.6/site-packages (from requests>=2.20->yfinance) (2019.11.28)\n",
      "Requirement already satisfied: urllib3<1.27,>=1.21.1 in /opt/conda/lib/python3.6/site-packages (from requests>=2.20->yfinance) (1.22)\n",
      "Requirement already satisfied: idna<3,>=2.5 in /opt/conda/lib/python3.6/site-packages (from requests>=2.20->yfinance) (2.6)\n",
      "Requirement already satisfied: six>=1.5 in /opt/conda/lib/python3.6/site-packages (from python-dateutil>=2.7.3->pandas>=0.24->yfinance) (1.11.0)\n",
      "Building wheels for collected packages: yfinance, multitasking\n",
      "  Running setup.py bdist_wheel for yfinance ... \u001b[?25ldone\n",
      "\u001b[?25h  Stored in directory: /root/.cache/pip/wheels/04/98/cc/2702a4242d60bdc14f48b4557c427ded1fe92aedf257d4565c\n",
      "  Running setup.py bdist_wheel for multitasking ... \u001b[?25ldone\n",
      "\u001b[?25h  Stored in directory: /root/.cache/pip/wheels/37/fa/73/d492849e319038eb4d986f5152e4b19ffb1bc0639da84d2677\n",
      "Successfully built yfinance multitasking\n",
      "Installing collected packages: multitasking, yfinance\n",
      "Successfully installed multitasking-0.0.9 yfinance-0.1.55\n",
      "Collecting pandas_datareader\n",
      "\u001b[?25l  Downloading https://files.pythonhosted.org/packages/22/f1/a02eea03628865c3d4c29849cda8c8a73f43358048aee47d79dfbfa6c6c3/pandas_datareader-0.9.0-py3-none-any.whl (107kB)\n",
      "\u001b[K    100% |████████████████████████████████| 112kB 4.4MB/s ta 0:00:01\n",
      "\u001b[?25hRequirement already satisfied: lxml in /opt/conda/lib/python3.6/site-packages (from pandas_datareader) (4.6.2)\n",
      "Requirement already satisfied: requests>=2.19.0 in /opt/conda/lib/python3.6/site-packages (from pandas_datareader) (2.25.1)\n",
      "Requirement already satisfied: pandas>=0.23 in /opt/conda/lib/python3.6/site-packages (from pandas_datareader) (1.1.5)\n",
      "Requirement already satisfied: idna<3,>=2.5 in /opt/conda/lib/python3.6/site-packages (from requests>=2.19.0->pandas_datareader) (2.6)\n",
      "Requirement already satisfied: certifi>=2017.4.17 in /opt/conda/lib/python3.6/site-packages (from requests>=2.19.0->pandas_datareader) (2019.11.28)\n",
      "Requirement already satisfied: chardet<5,>=3.0.2 in /opt/conda/lib/python3.6/site-packages (from requests>=2.19.0->pandas_datareader) (3.0.4)\n",
      "Requirement already satisfied: urllib3<1.27,>=1.21.1 in /opt/conda/lib/python3.6/site-packages (from requests>=2.19.0->pandas_datareader) (1.22)\n",
      "Requirement already satisfied: python-dateutil>=2.7.3 in /opt/conda/lib/python3.6/site-packages (from pandas>=0.23->pandas_datareader) (2.8.1)\n",
      "Requirement already satisfied: numpy>=1.15.4 in /opt/conda/lib/python3.6/site-packages (from pandas>=0.23->pandas_datareader) (1.19.5)\n",
      "Requirement already satisfied: pytz>=2017.2 in /opt/conda/lib/python3.6/site-packages (from pandas>=0.23->pandas_datareader) (2021.1)\n",
      "Requirement already satisfied: six>=1.5 in /opt/conda/lib/python3.6/site-packages (from python-dateutil>=2.7.3->pandas>=0.23->pandas_datareader) (1.11.0)\n",
      "Installing collected packages: pandas-datareader\n",
      "Successfully installed pandas-datareader-0.9.0\n",
      "Collecting pandas_ta\n",
      "\u001b[?25l  Downloading https://files.pythonhosted.org/packages/f8/6f/3a19cf5153f6b91684cbe641d42f7d6a2e518f237be234e949adeceeffe1/pandas_ta-0.2.45b.tar.gz (88kB)\n",
      "\u001b[K    100% |████████████████████████████████| 92kB 5.5MB/s ta 0:00:011\n",
      "\u001b[?25hRequirement already satisfied: pandas in /opt/conda/lib/python3.6/site-packages (from pandas_ta) (1.1.5)\n",
      "Requirement already satisfied: pytz>=2017.2 in /opt/conda/lib/python3.6/site-packages (from pandas->pandas_ta) (2021.1)\n",
      "Requirement already satisfied: python-dateutil>=2.7.3 in /opt/conda/lib/python3.6/site-packages (from pandas->pandas_ta) (2.8.1)\n",
      "Requirement already satisfied: numpy>=1.15.4 in /opt/conda/lib/python3.6/site-packages (from pandas->pandas_ta) (1.19.5)\n",
      "Requirement already satisfied: six>=1.5 in /opt/conda/lib/python3.6/site-packages (from python-dateutil>=2.7.3->pandas->pandas_ta) (1.11.0)\n",
      "Building wheels for collected packages: pandas-ta\n",
      "  Running setup.py bdist_wheel for pandas-ta ... \u001b[?25ldone\n",
      "\u001b[?25h  Stored in directory: /root/.cache/pip/wheels/78/76/74/e4b09c98fc91d7e1e0a56f4fe067796f216deacaa509234579\n",
      "Successfully built pandas-ta\n",
      "Installing collected packages: pandas-ta\n",
      "Successfully installed pandas-ta-0.2.45b0\n"
     ]
    }
   ],
   "source": [
    "#installing the necessary modules to extract data from API\n",
    "!pip install investpy\n",
    "!pip install yfinance\n",
    "!pip install pandas_datareader\n",
    "!pip install pandas_ta"
   ]
  },
  {
   "cell_type": "code",
   "execution_count": 2,
   "metadata": {},
   "outputs": [],
   "source": [
    "#importing the necessary modules\n",
    "from pandas_datareader import data as pdr\n",
    "import numpy as np\n",
    "import pandas as pd\n",
    "import investpy\n",
    "import yfinance as yf\n",
    "yf.pdr_override() "
   ]
  },
  {
   "cell_type": "markdown",
   "metadata": {},
   "source": [
    "# 1. DATA UNDERSTANDING\n",
    "We will be extracting the following features first from Yahoo Finance API: Stock market index of China, Italy, Netherlands, Austria, Australia, Belgium, India, Hungary, United States, France, United Kingdom, Germany, United States, Canada, Hong Kong, Spain, Ireland, South Korea, Japan, Sweden, Switzerland, Russia, Poland, Denmark and Finland.\n",
    "\n",
    "We will be extracting daily frequency data and only daily closing price of indices from 01/01/2010 to 31/12/2020"
   ]
  },
  {
   "cell_type": "code",
   "execution_count": 4,
   "metadata": {},
   "outputs": [
    {
     "name": "stdout",
     "output_type": "stream",
     "text": [
      "[*********************100%***********************]  21 of 21 completed\n",
      "              000001.SS  FTSEMIB.MI        ^AEX         ^ATX        ^AXJO  \\\n",
      "Date                                                                        \n",
      "2010-01-04  3243.760010     23545.0  343.029999  2537.000000  4876.299805   \n",
      "2010-01-05  3282.178955     23556.0  342.019989  2593.649902  4924.299805   \n",
      "2010-01-06  3254.215088     23622.0  341.480011          NaN  4921.399902   \n",
      "2010-01-07  3192.775879     23709.0  340.549988  2590.620117  4899.399902   \n",
      "2010-01-08  3195.997070     23811.0  341.940002  2588.489990  4912.100098   \n",
      "\n",
      "                   ^BFX        ^BSESN          ^BUX          ^DJI  \\\n",
      "Date                                                                \n",
      "2010-01-04  2563.969971  17558.730469  21561.769531  10583.959961   \n",
      "2010-01-05  2587.770020  17686.240234  22043.619141  10572.019531   \n",
      "2010-01-06  2596.429932  17701.130859  22164.720703  10573.679688   \n",
      "2010-01-07  2590.679932  17615.720703  21961.179688  10606.860352   \n",
      "2010-01-08  2591.639893  17540.289062  22197.109375  10618.190430   \n",
      "\n",
      "                  ^FCHI  ...       ^GDAXI        ^GSPC       ^GSPTSE  \\\n",
      "Date                     ...                                           \n",
      "2010-01-04  4013.969971  ...  6048.299805  1132.989990  11866.900391   \n",
      "2010-01-05  4012.909912  ...  6031.859863  1136.520020  11888.099609   \n",
      "2010-01-06  4017.669922  ...  6034.330078  1137.140015  11944.500000   \n",
      "2010-01-07  4024.800049  ...  6019.359863  1141.689941  11887.500000   \n",
      "2010-01-08  4045.139893  ...  6037.609863  1144.979980  11953.799805   \n",
      "\n",
      "                    ^HSI         ^IBEX        ^ISEQ        ^KS11  \\\n",
      "Date                                                               \n",
      "2010-01-04  21823.279297  12145.099609  3097.760010  1696.140015   \n",
      "2010-01-05  22279.580078  12204.400391  3071.520020  1690.619995   \n",
      "2010-01-06  22416.669922  12222.500000  3087.929932  1705.319946   \n",
      "2010-01-07  22269.449219  12166.299805  3070.469971  1683.449951   \n",
      "2010-01-08  22296.750000  12163.000000  3080.750000  1695.260010   \n",
      "\n",
      "                   ^N225        ^OMX        ^SSMI  \n",
      "Date                                               \n",
      "2010-01-04  10654.790039  963.559998  6631.439941  \n",
      "2010-01-05  10681.830078  967.270020  6579.259766  \n",
      "2010-01-06  10731.450195         NaN  6559.410156  \n",
      "2010-01-07  10681.660156  965.820007  6555.359863  \n",
      "2010-01-08  10798.320312  973.440002  6617.879883  \n",
      "\n",
      "[5 rows x 21 columns]\n"
     ]
    }
   ],
   "source": [
    "#get indices from Yahoo Finance API. We will be extracting daily frequency data from 01/01/2010 to 31/12/2020\n",
    "index_data = yf.download(\"^GSPC ^DJI ^FTSE ^GDAXI FTSEMIB.MI ^FCHI ^IBEX ^AXJO ^HSI ^N225 ^SSMI ^ISEQ ^OMX ^AEX ^ATX \\\n",
    "       ^BFX  ^BUX 000001.SS ^BSESN ^KS11 ^GSPTSE\", start=\"2010-01-01\", end=\"2020-12-31\")\n",
    "\n",
    "#we will only extract the daily closing price of indices\n",
    "fundamental_indicator = index_data['Close'].fillna(np.nan)\n",
    "print(fundamental_indicator.head())\n",
    "\n",
    "#save the extracted data to csv file\n",
    "fundamental_indicator.to_csv('fundamental_indicator_yahoo.csv')"
   ]
  },
  {
   "cell_type": "code",
   "execution_count": 5,
   "metadata": {},
   "outputs": [],
   "source": [
    "#we need to rename the columns in fundamental_indicators to, for example China index, will be ShanghaiSE-china\n",
    "index_list = ['ShanghaiSE', 'ftse mib', 'aex', 'atx', 'asx200', 'bfx', 'bsesn', 'bux', 'djia','cac40', 'ftse100', 'dax30', 's&p500', 'S&P/TSX', 'hang seng', 'ibex 35', 'iseq', 'kospi', 'nikkei225', \\\n",
    "              'omx', '^SSMI']\n",
    "country_list = ['china', 'italy', 'netherlands', 'austria', 'australia', 'belgium', 'india', 'hungary', 'united states', 'france', 'united kingdom', 'germany', 'united states', 'canada', 'hong kong', \\\n",
    "                'spain', 'ireland', 'south korea', 'japan', 'sweden', 'switzerland' ]\n",
    "\n",
    "column_names = fundamental_indicator.columns\n",
    "#this renames the column names\n",
    "for h,i,j in zip(column_names, index_list, country_list):\n",
    "    fundamental_indicator = fundamental_indicator.rename(columns= { h : i + '_' + j })"
   ]
  },
  {
   "cell_type": "markdown",
   "metadata": {},
   "source": [
    "Since I am unable to obtain Russia, Poland, Denmark and Finland indices from Yahoo Finance API, I will\n",
    "obtain them from Investing.com API(investpy)"
   ]
  },
  {
   "cell_type": "code",
   "execution_count": 6,
   "metadata": {},
   "outputs": [],
   "source": [
    "#Since I am unable to obtain Russia, Poland, Denmark and Finland indices from Yahoo Finance API, I will\n",
    "#obtain them from Investing.com API(investpy)\n",
    "idx = pd.date_range('2010-01-01', '2020-12-31')\n",
    "index_list_3 = ['moex', 'wig20', 'omxc20', 'omx helsinki 25' ]\n",
    "country_list_3 = ['russia', 'poland', 'denmark', 'finland']\n",
    "for i,j in zip(index_list_3, country_list_3):\n",
    "    df = investpy.get_index_historical_data(index= i,\n",
    "                                        country= j,\n",
    "                                        from_date='01/01/2010',\n",
    "                                        to_date='31/12/2020')\n",
    "    df_retained = df['Close']\n",
    "\n",
    "    #due to indices in Investing.com API not having NaN values for certain days due to public holiday, we need to insert rows with\n",
    "    #with NaN values in those days\n",
    "    df_retained.index = pd.DatetimeIndex(df_retained.index)\n",
    "    df_retained_1 = df_retained.reindex(idx, fill_value=np.nan)\n",
    "\n",
    "    #this adds the new column to the fundamental_indicator dataframe\n",
    "    fundamental_indicator[j + '-' + i] = df_retained_1"
   ]
  },
  {
   "cell_type": "markdown",
   "metadata": {},
   "source": [
    "# Exchange Rate Data\n",
    "We extract exchange rate data from Yahoo Finance API. Since we are predicting closing price of Switzerland stock index, we will pair CHF against another currency\n",
    "We will be extracting exchange rates of CHF/USD, CHF/GBP, CHF/EUR, CHF/AUD, CHF/HK, CHF/JPY, CHF/DKK, CHF/SEK, CHF/RUB, CHF/NOK, CHF/PLN, CHF/CZK, CHF/HUF, CHF/CN, CHF/INR, CHF/KRW, CHF/CAD. (Note: CHF stands for Swiss franc)"
   ]
  },
  {
   "cell_type": "code",
   "execution_count": 7,
   "metadata": {},
   "outputs": [
    {
     "name": "stdout",
     "output_type": "stream",
     "text": [
      "[*********************100%***********************]  16 of 16 completed\n"
     ]
    }
   ],
   "source": [
    "#Now we extract exchange rate data from Yahoo Finance API\n",
    "#Since we are predicting closing price of Switzerland stock index, we will pair CHF against another currency\n",
    "\n",
    "currency_data = yf.download(\"NOKCHF=X CHFUSD=X CHFEUR=X CHFAUD=X CHFHKD=X JPYCHF=X CHFDKK=X CHFSEK=X CHFNOK=X CHFPLN=X CHFCZK=X CHFHUF=X, \\\n",
    "                   CHFCNY=X CHFINR=X CHFKRW=X CHFCAD=X\", start=\"2010-01-01\", end=\"2020-12-31\")\n",
    "\n",
    "exchange_rate = currency_data['Close'].fillna(np.nan)"
   ]
  },
  {
   "cell_type": "raw",
   "metadata": {},
   "source": [
    "Due to different public holidays in different countries, we need to reindex the indices, bond yield and\n",
    "exchange rate data before concatenating them into a single dataframe\n",
    "After reindexing and concatenating, dataframe has 4018 rows and 62 columns.(25 for indices, 21 for exchange rate and\n",
    "16 for exchange rate)"
   ]
  },
  {
   "cell_type": "code",
   "execution_count": 8,
   "metadata": {},
   "outputs": [
    {
     "name": "stdout",
     "output_type": "stream",
     "text": [
      "            ShanghaiSE_china  ftse mib_italy  aex_netherlands  atx_austria  \\\n",
      "2010-01-01               NaN             NaN              NaN          NaN   \n",
      "2010-01-02               NaN             NaN              NaN          NaN   \n",
      "2010-01-03               NaN             NaN              NaN          NaN   \n",
      "2010-01-04       3243.760010         23545.0       343.029999  2537.000000   \n",
      "2010-01-05       3282.178955         23556.0       342.019989  2593.649902   \n",
      "...                      ...             ...              ...          ...   \n",
      "2020-12-27               NaN             NaN              NaN          NaN   \n",
      "2020-12-28       3397.284912         22289.0       627.590027  2761.709961   \n",
      "2020-12-29       3379.035889         22259.0       629.140015  2778.229980   \n",
      "2020-12-30       3414.452881         22233.0       628.059998  2780.439941   \n",
      "2020-12-31               NaN             NaN              NaN          NaN   \n",
      "\n",
      "            asx200_australia  bfx_belgium   bsesn_india   bux_hungary  \\\n",
      "2010-01-01               NaN          NaN           NaN           NaN   \n",
      "2010-01-02               NaN          NaN           NaN           NaN   \n",
      "2010-01-03               NaN          NaN           NaN           NaN   \n",
      "2010-01-04       4876.299805  2563.969971  17558.730469  21561.769531   \n",
      "2010-01-05       4924.299805  2587.770020  17686.240234  22043.619141   \n",
      "...                      ...          ...           ...           ...   \n",
      "2020-12-27               NaN          NaN           NaN           NaN   \n",
      "2020-12-28               NaN  3663.060059  47353.750000  41528.441406   \n",
      "2020-12-29       6700.299805  3671.110107  47613.078125  41733.109375   \n",
      "2020-12-30       6682.399902  3663.060059  47746.218750  42107.570312   \n",
      "2020-12-31       6587.100098          NaN           NaN           NaN   \n",
      "\n",
      "            djia_united states  cac40_france  ...  ibex 35_spain  \\\n",
      "2010-01-01                 NaN           NaN  ...            NaN   \n",
      "2010-01-02                 NaN           NaN  ...            NaN   \n",
      "2010-01-03                 NaN           NaN  ...            NaN   \n",
      "2010-01-04        10583.959961   4013.969971  ...   12145.099609   \n",
      "2010-01-05        10572.019531   4012.909912  ...   12204.400391   \n",
      "...                        ...           ...  ...            ...   \n",
      "2020-12-27                 NaN           NaN  ...            NaN   \n",
      "2020-12-28        30403.970703   5588.379883  ...    8155.600098   \n",
      "2020-12-29        30335.669922   5611.790039  ...    8174.799805   \n",
      "2020-12-30        30409.560547   5599.410156  ...    8154.399902   \n",
      "2020-12-31                 NaN           NaN  ...            NaN   \n",
      "\n",
      "            iseq_ireland  kospi_south korea  nikkei225_japan   omx_sweden  \\\n",
      "2010-01-01           NaN                NaN              NaN          NaN   \n",
      "2010-01-02           NaN                NaN              NaN          NaN   \n",
      "2010-01-03           NaN                NaN              NaN          NaN   \n",
      "2010-01-04   3097.760010        1696.140015     10654.790039   963.559998   \n",
      "2010-01-05   3071.520020        1690.619995     10681.830078   967.270020   \n",
      "...                  ...                ...              ...          ...   \n",
      "2020-12-27           NaN                NaN              NaN          NaN   \n",
      "2020-12-28           NaN        2808.600098     26854.029297  1886.380005   \n",
      "2020-12-29   7552.899902        2820.510010     27568.150391  1893.060059   \n",
      "2020-12-30   7531.529785        2873.469971     27444.169922          NaN   \n",
      "2020-12-31           NaN                NaN              NaN          NaN   \n",
      "\n",
      "            ^SSMI_switzerland  russia-moex  poland-wig20  denmark-omxc20  \\\n",
      "2010-01-01                NaN          NaN           NaN             NaN   \n",
      "2010-01-02                NaN          NaN           NaN             NaN   \n",
      "2010-01-03                NaN          NaN           NaN             NaN   \n",
      "2010-01-04        6631.439941          NaN       2444.58          347.85   \n",
      "2010-01-05        6579.259766          NaN       2462.30          345.14   \n",
      "...                       ...          ...           ...             ...   \n",
      "2020-12-27                NaN          NaN           NaN             NaN   \n",
      "2020-12-28       10603.490234      3258.95       2004.41         1472.55   \n",
      "2020-12-29       10682.040039      3274.67       2016.01         1475.07   \n",
      "2020-12-30       10703.509766      3289.02       1983.98         1465.17   \n",
      "2020-12-31                NaN          NaN           NaN             NaN   \n",
      "\n",
      "            finland-omx helsinki 25  \n",
      "2010-01-01                      NaN  \n",
      "2010-01-02                      NaN  \n",
      "2010-01-03                      NaN  \n",
      "2010-01-04                  2078.69  \n",
      "2010-01-05                  2084.56  \n",
      "...                             ...  \n",
      "2020-12-27                      NaN  \n",
      "2020-12-28                  4584.01  \n",
      "2020-12-29                  4622.84  \n",
      "2020-12-30                  4586.15  \n",
      "2020-12-31                      NaN  \n",
      "\n",
      "[4018 rows x 25 columns]\n",
      "            CHFAUD=X  CHFCAD=X  CHFCNY=X   CHFCZK=X  CHFDKK=X  CHFEUR=X  \\\n",
      "2010-01-01  1.076300  1.013800  6.486300  17.712999    4.9943  0.673490   \n",
      "2010-01-02       NaN       NaN       NaN        NaN       NaN       NaN   \n",
      "2010-01-03       NaN       NaN       NaN        NaN       NaN       NaN   \n",
      "2010-01-04  1.064500  1.011400  6.485000  17.613001    5.0003  0.673580   \n",
      "2010-01-05  1.060400  1.005700  6.604600  17.649000    5.0104  0.673430   \n",
      "...              ...       ...       ...        ...       ...       ...   \n",
      "2020-12-27       NaN       NaN       NaN        NaN       NaN       NaN   \n",
      "2020-12-28  1.476799  1.443330  7.293587  24.151800    6.8511  0.921030   \n",
      "2020-12-29  1.482849  1.445670  7.349377  24.242001    6.8485  0.920929   \n",
      "2020-12-30  1.486193  1.450070  7.377107  24.158300    6.8663  0.923020   \n",
      "2020-12-31  1.475000  1.446143  7.389650  24.171301    6.8615  0.930579   \n",
      "\n",
      "            CHFHKD=X    CHFHUF=X   CHFINR=X     CHFKRW=X  CHFNOK=X  CHFPLN=X  \\\n",
      "2010-01-01  7.498100  180.490005  45.209999  1110.699951   5.55600   2.75390   \n",
      "2010-01-02       NaN         NaN        NaN          NaN       NaN       NaN   \n",
      "2010-01-03       NaN         NaN        NaN          NaN       NaN       NaN   \n",
      "2010-01-04  7.535000  180.710007  44.908001  1100.400024   5.54340   2.74750   \n",
      "2010-01-05  7.501400  181.300003  44.609001  1103.900024   5.52890   2.75600   \n",
      "...              ...         ...        ...          ...       ...       ...   \n",
      "2020-12-27       NaN         NaN        NaN          NaN       NaN       NaN   \n",
      "2020-12-28  8.715790  332.890015  82.441879  1230.979370   9.68464   4.14445   \n",
      "2020-12-29  8.729047  334.874390  82.715675  1231.678467   9.71189   4.13537   \n",
      "2020-12-30  8.769547  336.360718  82.943871  1235.743896   9.74455   4.19007   \n",
      "2020-12-31  8.792759  335.829987  82.945793  1233.788940   9.67314   4.22216   \n",
      "\n",
      "            CHFSEK=X  CHFUSD=X  JPYCHF=X   NOKCHF=X  \n",
      "2010-01-01    6.8646  0.967211       NaN        NaN  \n",
      "2010-01-02       NaN       NaN       NaN        NaN  \n",
      "2010-01-03       NaN       NaN       NaN        NaN  \n",
      "2010-01-04    6.8448  0.971723  1.111500  18.006001  \n",
      "2010-01-05    6.8685  0.967399  1.127700  18.045000  \n",
      "...              ...       ...       ...        ...  \n",
      "2020-12-27       NaN       NaN       NaN        NaN  \n",
      "2020-12-28    9.2813  1.124316  0.859033  10.305700  \n",
      "2020-12-29    9.3133  1.125746  0.856239  10.282200  \n",
      "2020-12-30    9.2777  1.131094  0.853279  10.249200  \n",
      "2020-12-31    9.2910  1.134327  0.854905  10.301000  \n",
      "\n",
      "[4018 rows x 16 columns]\n",
      "            ShanghaiSE_china  ftse mib_italy  aex_netherlands  atx_austria  \\\n",
      "2010-01-01               NaN             NaN              NaN          NaN   \n",
      "2010-01-02               NaN             NaN              NaN          NaN   \n",
      "2010-01-03               NaN             NaN              NaN          NaN   \n",
      "2010-01-04       3243.760010         23545.0       343.029999  2537.000000   \n",
      "2010-01-05       3282.178955         23556.0       342.019989  2593.649902   \n",
      "...                      ...             ...              ...          ...   \n",
      "2020-12-27               NaN             NaN              NaN          NaN   \n",
      "2020-12-28       3397.284912         22289.0       627.590027  2761.709961   \n",
      "2020-12-29       3379.035889         22259.0       629.140015  2778.229980   \n",
      "2020-12-30       3414.452881         22233.0       628.059998  2780.439941   \n",
      "2020-12-31               NaN             NaN              NaN          NaN   \n",
      "\n",
      "            asx200_australia  bfx_belgium   bsesn_india   bux_hungary  \\\n",
      "2010-01-01               NaN          NaN           NaN           NaN   \n",
      "2010-01-02               NaN          NaN           NaN           NaN   \n",
      "2010-01-03               NaN          NaN           NaN           NaN   \n",
      "2010-01-04       4876.299805  2563.969971  17558.730469  21561.769531   \n",
      "2010-01-05       4924.299805  2587.770020  17686.240234  22043.619141   \n",
      "...                      ...          ...           ...           ...   \n",
      "2020-12-27               NaN          NaN           NaN           NaN   \n",
      "2020-12-28               NaN  3663.060059  47353.750000  41528.441406   \n",
      "2020-12-29       6700.299805  3671.110107  47613.078125  41733.109375   \n",
      "2020-12-30       6682.399902  3663.060059  47746.218750  42107.570312   \n",
      "2020-12-31       6587.100098          NaN           NaN           NaN   \n",
      "\n",
      "            djia_united states  cac40_france  ...  CHFHKD=X    CHFHUF=X  \\\n",
      "2010-01-01                 NaN           NaN  ...  7.498100  180.490005   \n",
      "2010-01-02                 NaN           NaN  ...       NaN         NaN   \n",
      "2010-01-03                 NaN           NaN  ...       NaN         NaN   \n",
      "2010-01-04        10583.959961   4013.969971  ...  7.535000  180.710007   \n",
      "2010-01-05        10572.019531   4012.909912  ...  7.501400  181.300003   \n",
      "...                        ...           ...  ...       ...         ...   \n",
      "2020-12-27                 NaN           NaN  ...       NaN         NaN   \n",
      "2020-12-28        30403.970703   5588.379883  ...  8.715790  332.890015   \n",
      "2020-12-29        30335.669922   5611.790039  ...  8.729047  334.874390   \n",
      "2020-12-30        30409.560547   5599.410156  ...  8.769547  336.360718   \n",
      "2020-12-31                 NaN           NaN  ...  8.792759  335.829987   \n",
      "\n",
      "             CHFINR=X     CHFKRW=X  CHFNOK=X  CHFPLN=X  CHFSEK=X  CHFUSD=X  \\\n",
      "2010-01-01  45.209999  1110.699951   5.55600   2.75390    6.8646  0.967211   \n",
      "2010-01-02        NaN          NaN       NaN       NaN       NaN       NaN   \n",
      "2010-01-03        NaN          NaN       NaN       NaN       NaN       NaN   \n",
      "2010-01-04  44.908001  1100.400024   5.54340   2.74750    6.8448  0.971723   \n",
      "2010-01-05  44.609001  1103.900024   5.52890   2.75600    6.8685  0.967399   \n",
      "...               ...          ...       ...       ...       ...       ...   \n",
      "2020-12-27        NaN          NaN       NaN       NaN       NaN       NaN   \n",
      "2020-12-28  82.441879  1230.979370   9.68464   4.14445    9.2813  1.124316   \n",
      "2020-12-29  82.715675  1231.678467   9.71189   4.13537    9.3133  1.125746   \n",
      "2020-12-30  82.943871  1235.743896   9.74455   4.19007    9.2777  1.131094   \n",
      "2020-12-31  82.945793  1233.788940   9.67314   4.22216    9.2910  1.134327   \n",
      "\n",
      "            JPYCHF=X   NOKCHF=X  \n",
      "2010-01-01       NaN        NaN  \n",
      "2010-01-02       NaN        NaN  \n",
      "2010-01-03       NaN        NaN  \n",
      "2010-01-04  1.111500  18.006001  \n",
      "2010-01-05  1.127700  18.045000  \n",
      "...              ...        ...  \n",
      "2020-12-27       NaN        NaN  \n",
      "2020-12-28  0.859033  10.305700  \n",
      "2020-12-29  0.856239  10.282200  \n",
      "2020-12-30  0.853279  10.249200  \n",
      "2020-12-31  0.854905  10.301000  \n",
      "\n",
      "[4018 rows x 41 columns]\n"
     ]
    }
   ],
   "source": [
    "#due to different public holidays in different countries, we need to reindex the indices, bond yield and\n",
    "#exchange rate data before concatenating them into a single dataframe\n",
    "\n",
    "idx = pd.date_range('2010-01-01', '2020-12-31')\n",
    "indicator_list = [fundamental_indicator, exchange_rate]\n",
    "for i in indicator_list:\n",
    "    i.index = pd.DatetimeIndex(i.index)\n",
    "    i = i.reindex(idx, fill_value=np.nan)\n",
    "\n",
    "#reindex and fill rows with no data with NaN\n",
    "fundamental_indicator_2 = fundamental_indicator.reindex(idx, fill_value=np.nan)\n",
    "exchange_rate_2 = exchange_rate.reindex(idx, fill_value=np.nan)\n",
    "print(fundamental_indicator_2)\n",
    "print(exchange_rate_2)\n",
    "\n",
    "#all the 3 dataset have 4018 rows after reindexing\n",
    "#concatenate the indices, bond yield and exchange rate data into a single dataframe\n",
    "all_indicators = pd.concat([fundamental_indicator_2, exchange_rate_2], axis = 1)\n",
    "print(all_indicators)\n",
    "\n",
    "#after concatenating, dataframe has 4018 rows and 62 columns.(25 for indices, 21 for exchange rate and\n",
    "#16 for exchange rate)"
   ]
  },
  {
   "cell_type": "markdown",
   "metadata": {},
   "source": [
    "# Technical variables\n",
    "Now we will be using pandas_ta module to extract technical indicator variables. We will be using 3, 5, 7, 10, 15, 20, 25 and 30 days in the past to calculate our technical indicators.\n",
    "\n",
    "Since we will be forecasting Switzerland stock index, we need to extract Open, Close, High and Low daily price\n",
    "which are used to calculate the technical indicators.\n",
    "\n",
    "We will be extracting these technical variables: simple moving average, exponential moving average, average true range, relative strength index, average directional index and stochastic oscillators."
   ]
  },
  {
   "cell_type": "code",
   "execution_count": 9,
   "metadata": {},
   "outputs": [
    {
     "name": "stdout",
     "output_type": "stream",
     "text": [
      "Collecting dataclasses\n",
      "  Downloading https://files.pythonhosted.org/packages/fe/ca/75fac5856ab5cfa51bbbcefa250182e50441074fdc3f803f6e76451fab43/dataclasses-0.8-py3-none-any.whl\n",
      "Installing collected packages: dataclasses\n",
      "Successfully installed dataclasses-0.8\n"
     ]
    }
   ],
   "source": [
    "!pip install dataclasses"
   ]
  },
  {
   "cell_type": "code",
   "execution_count": 11,
   "metadata": {},
   "outputs": [],
   "source": [
    "#Now we will be using pandas_ta module to extract technical indicator variables.\n",
    "#We will be using 3, 5, 7, 10, 15, 20, 25 and 30 days in the past for our technical indicators.\n",
    "\n",
    "import pandas_ta as ta\n",
    "length = [3, 5, 7, 10, 15, 20, 25, 30]\n",
    "#Since we will be forecasting Switzerland stock index, we need to extract Open,Close,High and Low daily price\n",
    "#which are used to calculate the technical indicators\n",
    "df_smi = investpy.get_index_historical_data(index= 'smi', country= 'switzerland', from_date='01/01/2010',\n",
    "                                            to_date='31/12/2020')\n",
    "df_smi_close = df_smi['Close']\n",
    "df_smi_high = df_smi['High']\n",
    "df_smi_low = df_smi['Low']\n",
    "df_smi_open = df_smi['Open']\n",
    "\n",
    "#extracting simple moving average\n",
    "sma_ta = pd.DataFrame()\n",
    "for i in length:\n",
    "    sma_ta_1 = ta.sma(df_smi_close, length = i)\n",
    "    sma_ta['sma_' + str(i) ] = sma_ta_1\n",
    "\n",
    "#extracting exponential moving average\n",
    "ema_ta = pd.DataFrame()\n",
    "for i in length:\n",
    "    ema_ta_1 = ta.ema(df_smi_close, length = i)\n",
    "    ema_ta['ema_' + str(i)] = ema_ta_1\n",
    "\n",
    "#extracting average true range\n",
    "atr_ta = pd.DataFrame()\n",
    "for i in length:\n",
    "    atr_ta_1 = ta.atr(df_smi_high, df_smi_low, df_smi_close, length = i)\n",
    "    ema_ta['atr_' + str(i)] = atr_ta_1\n",
    "\n",
    "#extracting relative strength index\n",
    "rsi_ta = pd.DataFrame()\n",
    "for i in length:\n",
    "    rsi_ta_1 = ta.rsi(df_smi_close, length = i)\n",
    "    rsi_ta['rsi_' + str(i)] = rsi_ta_1\n",
    "\n",
    "#extracting average directional index\n",
    "adx_ta = pd.DataFrame()\n",
    "for i in length:\n",
    "    adx_ta_1 = ta.adx(df_smi_high, df_smi_low, df_smi_close, length = i)\n",
    "    #print(adx_ta_1)\n",
    "    adx_ta['adx_' + str(i)] = adx_ta_1.iloc[:,0]\n",
    "\n",
    "#extracting stochastic oscillators\n",
    "stoch_k_ta = pd.DataFrame()\n",
    "stoch_d_ta = pd.DataFrame()\n",
    "for i in length:\n",
    "    stoch_ta_1 = ta.stoch(df_smi_high, df_smi_low, df_smi_close, k = i, d = 3, smooth_k = i)\n",
    "    stoch_k_ta['stoch_k_' + str(i)] = stoch_ta_1.iloc[:,0]\n",
    "    stoch_d_ta['stoch_d_' + str(i)] = stoch_ta_1.iloc[:,1]"
   ]
  },
  {
   "cell_type": "markdown",
   "metadata": {},
   "source": [
    "# 3. Data Preparation\n",
    "We will concatenate all the fundamental and technical variables extracted into a single dataframe.\n",
    "We will convert convert all variables data type to float. \n",
    "To fill missing values, we use linear interpolation since this is sequential data. We will forward fill first then backward fill.\n",
    "To remove seasonality and trend from the data, we will apply logarithm difference on the data."
   ]
  },
  {
   "cell_type": "code",
   "execution_count": 12,
   "metadata": {},
   "outputs": [],
   "source": [
    "#concatenate all technical indicator variables into a single dataframe\n",
    "technical_indicators = pd.concat([sma_ta, ema_ta, atr_ta, rsi_ta, adx_ta, stoch_k_ta, stoch_d_ta], axis = 1)\n",
    "\n",
    "#reindexing the concatenated dataframe\n",
    "technical_indicators_2 = technical_indicators.reindex(idx, fill_value=np.nan)\n",
    "#concatenate the previous fundamental indicators with technical indicators\n",
    "all_indicators_funda_tech = pd.concat([all_indicators, technical_indicators_2], axis = 1)\n",
    "\n",
    "#convert all variables data type to float\n",
    "all_indicators_funda_tech_2 = all_indicators_funda_tech.astype(float)\n",
    "#since first 3 rows of dataframe are all missing values, we exclude them\n",
    "all_indicators_funda_tech_2 = all_indicators_funda_tech_2.iloc[3:,:]\n",
    "#to fill missing values, we use linear interpolation since this is sequential data\n",
    "all_indicators_funda_tech_2 = all_indicators_funda_tech_2.interpolate().ffill().bfill()\n",
    "#since up to 84 rows for stochastic %D have missing values, causing linear interpolation to fill them with same values,\n",
    "#I have to remove the first 84 rows\n",
    "all_indicators_funda_tech_2 = all_indicators_funda_tech_2.iloc[84:-1,:]\n",
    "\n",
    "#to remove seasonality and trend from the data, i have to apply logarithm difference\n",
    "log_return_all_indicators = pd.DataFrame()\n",
    "column_names_1 = all_indicators_funda_tech_2.columns\n",
    "\n",
    "log_return_all_indicators = np.log(all_indicators_funda_tech_2).diff()"
   ]
  },
  {
   "cell_type": "markdown",
   "metadata": {},
   "source": [
    "Since our target variables are 1, 3 and 5-day returns, we have to apply 1,3 and 5 days period differencing on the closing price\n",
    "data of Swiss Market Index.\n",
    "We will drop missing value after that"
   ]
  },
  {
   "cell_type": "code",
   "execution_count": 13,
   "metadata": {},
   "outputs": [
    {
     "name": "stdout",
     "output_type": "stream",
     "text": [
      "[*********************100%***********************]  1 of 1 completed\n"
     ]
    }
   ],
   "source": [
    "# We now extract Switzerland stock index closing price data since this is our target variable\n",
    "switzerland_index_data = yf.download(\"^SSMI\", start=\"2010-01-01\", end=\"2020-12-31\")\n",
    "switzerland_index_data_close = switzerland_index_data['Close']\n",
    "\n",
    "#We would include 1, 3 and 5 days for our forecast horizon\n",
    "switzerland_forecast_horizon_return = pd.DataFrame()\n",
    "#convert all values to natural log\n",
    "switzerland_index_data_close = np.log(switzerland_index_data_close)\n",
    "forecast_horizon = [1, 3, 5]\n",
    "\n",
    "#we need to do 1,3 and 5 days period differencing to get the returns\n",
    "for i in forecast_horizon:\n",
    "    switzerland_forecast_horizon_return['forecast horizon_' + str(i) + '_day'] = switzerland_index_data_close.diff(periods = i)\n",
    "\n",
    "k = 0\n",
    "for i in forecast_horizon:\n",
    "    switzerland_forecast_horizon_return.iloc[:,k] = switzerland_forecast_horizon_return.shift(-i)\n",
    "    k += 1\n",
    "\n",
    "#drop missing values\n",
    "switzerland_forecast_horizon_return = switzerland_forecast_horizon_return.dropna()"
   ]
  },
  {
   "cell_type": "code",
   "execution_count": 14,
   "metadata": {},
   "outputs": [],
   "source": [
    "#we need to merge the Switzerland stock index return with the independent features.\n",
    "all_indicators_with_forecast_return =pd.merge(log_return_all_indicators, switzerland_forecast_horizon_return, how=\"right\",\n",
    "    on=None, left_on=None, right_on=None, left_index=True, right_index=True, sort=True, suffixes=(\"_x\", \"_y\"), copy=True,\n",
    "    indicator=False, validate=None)\n",
    "all_indicators_with_forecast_return = all_indicators_with_forecast_return.dropna()\n",
    "forecast_return_classification = all_indicators_with_forecast_return.iloc[:,-3:]"
   ]
  },
  {
   "cell_type": "markdown",
   "metadata": {},
   "source": [
    "We would need to split the dataset into 75% training data and 25% test data\n",
    "We need to convert the returns for our target variables into binary values: 1 for upward movement and 0 for downward movement"
   ]
  },
  {
   "cell_type": "code",
   "execution_count": 15,
   "metadata": {},
   "outputs": [
    {
     "name": "stderr",
     "output_type": "stream",
     "text": [
      "/opt/conda/lib/python3.6/site-packages/sklearn/ensemble/weight_boosting.py:29: DeprecationWarning: numpy.core.umath_tests is an internal NumPy module and should not be imported. It will be removed in a future NumPy release.\n",
      "  from numpy.core.umath_tests import inner1d\n"
     ]
    }
   ],
   "source": [
    "from sklearn.ensemble import RandomForestClassifier\n",
    "\n",
    "#we would need to split the dataset into 75% training data and 25% test data\n",
    "total_rows = all_indicators_with_forecast_return.shape[0]\n",
    "training_size = int(0.75 * total_rows)\n",
    "X_train = all_indicators_with_forecast_return.iloc[:training_size,:-3]\n",
    "X_test = all_indicators_with_forecast_return.iloc[training_size:,:-3]\n",
    "\n",
    "#we need to convert the returns for our target variables into binary values: 1 for upward movement\n",
    "#and 0 for downward movement\n",
    "forecast_return_classification_binary = ((forecast_return_classification.values) > 0).astype(int)\n",
    "\n",
    "#we then split the target variable into y_train and y_test\n",
    "y_train = forecast_return_classification_binary[:training_size,:]\n",
    "y_test = forecast_return_classification_binary[training_size:,:]"
   ]
  },
  {
   "cell_type": "markdown",
   "metadata": {},
   "source": [
    "We will be answering our questions now.\n",
    "# Question 1\n",
    "We have 97 fundamental and technical variables. Some variables are redundant and have little values in making trading decisions. Therefore, we would like to identify the 10 variables that stock traders should use in making trading decisions.\n",
    "\n",
    "A: To find the 10 most important features, we will use mutual info classification. We then sort the features from highest weight to lowest weight and display the 10 most important features and the corresponding weights in horizontal bar chart. "
   ]
  },
  {
   "cell_type": "code",
   "execution_count": 17,
   "metadata": {},
   "outputs": [
    {
     "data": {
      "image/png": "[encoded data removed]",
      "text/plain": [
       "<matplotlib.figure.Figure at 0x7f41aafd0a90>"
      ]
     },
     "metadata": {
      "needs_background": "light"
     },
     "output_type": "display_data"
    },
    {
     "data": {
      "image/png": "[encoded data removed]",
      "text/plain": [
       "<matplotlib.figure.Figure at 0x7f41a0c86550>"
      ]
     },
     "metadata": {
      "needs_background": "light"
     },
     "output_type": "display_data"
    },
    {
     "data": {
      "image/png": "[encoded data removed]",
      "text/plain": [
       "<matplotlib.figure.Figure at 0x7f41a0b78278>"
      ]
     },
     "metadata": {
      "needs_background": "light"
     },
     "output_type": "display_data"
    }
   ],
   "source": [
    "#To find the 10 most important features, we will use chi squared test and mutual info classification\n",
    "from sklearn.feature_selection import chi2, mutual_info_regression, mutual_info_classif\n",
    "from sklearn.feature_selection import SelectKBest\n",
    "Days = [1, 3, 5]\n",
    "for i in range(3):\n",
    "    selected_features = SelectKBest(mutual_info_classif, k=10).fit(X_train, y_train[:,i])\n",
    "    column_names = X_train.columns\n",
    "    interesting_features_df = pd.DataFrame(selected_features.scores_, index=column_names).rename(columns={0:'feature weight'})\n",
    "\n",
    "    #this sorts the features from highest weight to lowest weight\n",
    "    interesting_features_df = interesting_features_df.sort_values('feature weight', ascending=False)\n",
    "\n",
    "    #this displays the 10 most important features in horizontal bar chart and the corresponding weights\n",
    "    import matplotlib.pyplot as plt\n",
    "    Features = interesting_features_df.index[0:10].to_list()[::-1]\n",
    "    Weight = interesting_features_df['feature weight'][0:10].to_list()[::-1]\n",
    "    \n",
    "    plt.barh(Features, Weight, color='blue')\n",
    "    plt.title('10 MOST IMPORTANT FEATURES ' + 'FOR ' + str(Days[i]) + '-DAY HORIZON')\n",
    "    plt.ylabel('FEATURES')\n",
    "    plt.xlabel('WEIGHT')\n",
    "    plt.show()"
   ]
  },
  {
   "cell_type": "markdown",
   "metadata": {},
   "source": [
    "## Findings\n",
    "1. For 1-day forecast horizon, traders should use the following variables: stochastic %K (30-days), stochastic %K (3-days), S&P500, Relative Strength Index (5-days), Relative Strength Index (3-days), Dow Jones Industrial Index (DJIA), Average True Range (7-days), ASX200, CHF/CZK and CHF/CAD.\n",
    "\n",
    "2. For 3-day forecast horizon, traders should use the following variables: stochastic %K (5-days), stochastic %D (25-days), Simple Moving Average (7-days), S&P500, Relative Strength Index (30-days), Relative Strength Index (25-days), Hang Seng Index, FTSE100, Dow Jones Industrial Index (DJIA) , CHF/PLN and CHF/DKK\n",
    "\n",
    "3. For 5-day forecast horizon, traders should use the following variables: stochastic %D (30-days), stochastic %D (20-days), Nikkei225 Index, FTSE100, Exponential Moving Average (30-days), Average True Range (20 days), Average Directional Index (5-days), S&P/TSX index, CHF/EUR and CHF/AUD"
   ]
  },
  {
   "cell_type": "markdown",
   "metadata": {},
   "source": [
    "For completeness of analysis, we will also use chi squared test to find the 10 most important features. Since chi-squared test only accept positive values, we will use min-max scaler to convert values to [0,1] range"
   ]
  },
  {
   "cell_type": "code",
   "execution_count": 18,
   "metadata": {},
   "outputs": [
    {
     "data": {
      "image/png": "[encoded data removed]",
      "text/plain": [
       "<matplotlib.figure.Figure at 0x7f41a0b78390>"
      ]
     },
     "metadata": {
      "needs_background": "light"
     },
     "output_type": "display_data"
    },
    {
     "data": {
      "image/png": "[encoded data removed]",
      "text/plain": [
       "<matplotlib.figure.Figure at 0x7f41b45c1828>"
      ]
     },
     "metadata": {
      "needs_background": "light"
     },
     "output_type": "display_data"
    },
    {
     "data": {
      "image/png": "[encoded data removed]",
      "text/plain": [
       "<matplotlib.figure.Figure at 0x7f41b2fa2b00>"
      ]
     },
     "metadata": {
      "needs_background": "light"
     },
     "output_type": "display_data"
    }
   ],
   "source": [
    "#this is the chi squared test to find the 10 most important features\n",
    "from sklearn.preprocessing import MinMaxScaler\n",
    "scaler = MinMaxScaler()\n",
    "X_train_scaled = scaler.fit_transform(X_train)\n",
    "Days = [1, 3, 5]\n",
    "for i in range(3):\n",
    "    selected_features = SelectKBest(chi2, k=10).fit(X_train_scaled, y_train[:,i])\n",
    "    interesting_features_df = pd.DataFrame(selected_features.scores_, index=column_names).rename(columns={0:'feature weight'})\n",
    "\n",
    "    #this sorts the features from highest weight to lowest weight\n",
    "    interesting_features_df = interesting_features_df.sort_values('feature weight', ascending=False)\n",
    "\n",
    "    #this displays the 10 most important features in horizontal bar chart and the corresponding weights\n",
    "    import matplotlib.pyplot as plt\n",
    "    Features = interesting_features_df.index[0:10].to_list()[::-1]\n",
    "    Weight = interesting_features_df['feature weight'][0:10].to_list()[::-1]\n",
    "\n",
    "    plt.barh(Features, Weight, color='orange')\n",
    "    plt.title('10 MOST IMPORTANT FEATURES ' + 'FOR ' + str(Days[i]) + '-DAY HORIZON')\n",
    "    plt.ylabel('FEATURES')\n",
    "    plt.xlabel('WEIGHT')\n",
    "    plt.show()"
   ]
  },
  {
   "cell_type": "markdown",
   "metadata": {},
   "source": [
    "## Findings\n",
    "1. For 1-day forecast horizon, traders should use the following variables: S&P500, OMX Helsinki 25, Average Directional Index (7-days), Average Directional Index (5-days), Average Directional Index (25-days), Average Directional Index (20-days), Average Directional Index (15-days), Average Directional Index (10-days) and S&P/TSX index\n",
    "\n",
    "2. For 3-day forecast horizon, traders should use the following variables: Simple Moving Average (30-days), Simple Moving Average (25-days), Simple Moving Average (20-days), Hang Seng index, OMX Copenhagen 20 index, Average Directional Index (30-days), Average Directional Index (25-days), Average Directional Index (20-days), Average Directional Index (15-days), Average Directional Index (10-days)\n",
    "\n",
    "3. For 5-day forecast horizon, traders should use the following variables: Kospi index, Hang Seng index, Budapest Index (BUX), BSE Sensex Index, Average Directional Index (30-days), Average Directional Index (25-days), Average Directional Index (20-days), Average Directional Index (15-days), Average Directional Index (10-days) and Shanghai Stock Index.\n",
    "\n",
    "It seems that Average Directional Index has high predictive value given its frequent occurrences in the top 10 most important variables for all 3 forecast horizons."
   ]
  },
  {
   "cell_type": "markdown",
   "metadata": {},
   "source": [
    "# Question 2:\n",
    "To find out which variables serve as buy/sell signals and which variables serve as overbought/oversold signals, we will be using Pearson correlation coefficient. They will be presented in bar graph. Therefore variables with positive values (green bars) serve as buy/sell signals and variables with negative values (red bars) serve as overbought/oversold signals.\n",
    "\n",
    "We will only be using the 10 most important features as identified by mutual information classification."
   ]
  },
  {
   "cell_type": "code",
   "execution_count": 19,
   "metadata": {},
   "outputs": [
    {
     "data": {
      "image/png": "[encoded data removed]",
      "text/plain": [
       "<matplotlib.figure.Figure at 0x7f41a0c24550>"
      ]
     },
     "metadata": {
      "needs_background": "light"
     },
     "output_type": "display_data"
    },
    {
     "data": {
      "image/png": "[encoded data removed]",
      "text/plain": [
       "<matplotlib.figure.Figure at 0x7f41a0bdaeb8>"
      ]
     },
     "metadata": {
      "needs_background": "light"
     },
     "output_type": "display_data"
    },
    {
     "data": {
      "image/png": "[encoded data removed]",
      "text/plain": [
       "<matplotlib.figure.Figure at 0x7f41a0d3d198>"
      ]
     },
     "metadata": {
      "needs_background": "light"
     },
     "output_type": "display_data"
    }
   ],
   "source": [
    "#for the ten most important features for forecast horizon of 1, 3 and 5 days, we find the correlation coefficient\n",
    "#between the features and target variable\n",
    "import scipy\n",
    "for k in range(3):\n",
    "    selected_features = SelectKBest(mutual_info_classif, k=10).fit(X_train, y_train[:,k])\n",
    "    interesting_features_df = pd.DataFrame(selected_features.scores_, index=column_names).rename(columns={0:'feature weight'})\n",
    "    interesting_features_df = interesting_features_df.sort_values('feature weight', ascending=False)\n",
    "    features = interesting_features_df.index[0:10].to_list()[::-1]\n",
    "\n",
    "    #appends the correlation coefficient results to pearson_corr list\n",
    "    pearson_corr = []\n",
    "    for i in features:\n",
    "        corr = scipy.stats.pearsonr(y_train[:,0],X_train[i])[0]\n",
    "        pearson_corr.append(corr)\n",
    "\n",
    "    features_neg = []\n",
    "    pearson_corr_neg = []\n",
    "    for i,j in zip(features,pearson_corr):\n",
    "        if j < 0:\n",
    "            pearson_corr_neg.append(j)\n",
    "            features_neg.append(i)\n",
    "\n",
    "    #plot the 10 features and the corresponding correlation coefficient\n",
    "    #fig = plt.figure(figsize=(4, 3))\n",
    "    plt.barh(features, pearson_corr, color='green')\n",
    "    plt.barh(features_neg, pearson_corr_neg, color='red')\n",
    "    plt.title('PEARSON CORRELATION OF 10 MOST IMPORTANT FEATURES WITH TARGET VARIABLE ' + 'FOR ' + str(Days[k]) + '-DAY HORIZON')\n",
    "    plt.ylabel('FEATURES')\n",
    "    plt.xlabel('CORRELATION COEFFICIENT')\n",
    "    plt.show()"
   ]
  },
  {
   "cell_type": "markdown",
   "metadata": {},
   "source": [
    "Findings\n",
    "1. For 1-day forecast horizon, stochastic %K (30-days), stochastic %K (3-days), S&P500, Relative Strength Index (5-days), Relative Strength Index (3-days), Dow Jones Industrial Index (DJIA), ASX200 and CHF/CZK serve as buy/sell signals while Average True Range (7-days) and CHF/CAD serve as overbought/oversold signals.\n",
    "\n",
    "2. For 3-day forecast horizon, stochastic %K (5-days), Simple Moving Average (7-days), S&P500, Relative Strength Index (30-days), Relative Strength Index (25-days), Hang Seng Index, FTSE100, Dow Jones Industrial Index (DJIA) serve as buy/sell signals while stochastic %D (25-days),CHF/PLN and CHF/DKK serve as overbought/oversold signals.\n",
    "\n",
    "3. For 5-day forecast horizon, Nikkei225 Index, Exponential Moving Average (30-days), Average True Range (20 days), Average Directional Index (5-days), CHF/EUR and CHF/AUD serve as buy/sell signals while stochastic %D (30-days), stochastic %D (20-days), FTSE100 and S&P/TSX index serve as overbought/oversold signals.\n",
    "\n",
    "Therefore for buy/sell signals, traders should buy/sell when the variables increase/decrease in values and for overbought/oversold signals, traders should sell/buy when variables increase/decrease in values."
   ]
  },
  {
   "cell_type": "markdown",
   "metadata": {},
   "source": [
    "# 4. MODELING\n",
    "We would now train our model. We will be using XGBoost machine- learning algorithm. We decided to use tree-based ensemble method because it will ignore redundant or correlated features in constructing ensemble of trees. While it is a greedy algorithm in that it chooses the best feature to split at that time but not the best overall, it is robust to overfitting and has proven to acquire the best score in Kaggle competition.\n",
    "For hyperparameters optimization, we used Bayesian optimisation which is better than random search and grid search.\n",
    "We will train on training data and use test data as our validation data."
   ]
  },
  {
   "cell_type": "code",
   "execution_count": 33,
   "metadata": {},
   "outputs": [],
   "source": [
    "#importing the necessary modules for bayesian optimization\n",
    "import ast\n",
    "import csv\n",
    "import inspect\n",
    "import sys\n",
    "import time\n",
    "from time import gmtime, strftime\n",
    "from timeit import default_timer as timer\n",
    "import numpy as np\n",
    "import pandas as pd\n",
    "import xgboost as xgb\n",
    "from hyperopt import hp, tpe, Trials, fmin, STATUS_OK\n",
    "import numpy as np\n",
    "import pandas as pd\n",
    "from sklearn.metrics import roc_auc_score\n",
    "from sklearn.metrics import accuracy_score, f1_score\n",
    "import pickle\n",
    "import tensorflow_addons as tfa"
   ]
  },
  {
   "cell_type": "code",
   "execution_count": null,
   "metadata": {},
   "outputs": [],
   "source": [
    "results_file = \"bayes_optimization_summary_{}.csv\".format(\n",
    "    strftime(\"%y%m%d%H%M\", gmtime())\n",
    ")\n",
    "\n",
    "#used to name the csv file for recording accuracy and F1 scores and hyperparameters combination\n",
    "with open(results_file, \"w\", newline=\"\") as outfile:\n",
    "    writer = csv.writer(outfile)\n",
    "    writer.writerow(\n",
    "        [\n",
    "            \"iteration\",\n",
    "            \"loss\",\n",
    "            \"accuracy_score\",\n",
    "            \"f1_score\"\n",
    "            \"train_time\",\n",
    "            \"params\",\n",
    "        ]\n",
    "    )"
   ]
  },
  {
   "cell_type": "code",
   "execution_count": null,
   "metadata": {},
   "outputs": [],
   "source": [
    "def objective(space):\n",
    "    \"\"\"\n",
    "    Bayesian Optimisation function to find optimal hyperparameter combination\n",
    "    \n",
    "    Arguments:\n",
    "        space -> hyperparameter combinations\n",
    "    Outputs:\n",
    "        loss -> loss from predictions made on evaluation data\n",
    "    \n",
    "    \"\"\"\n",
    "    global ITERATION\n",
    "    ITERATION += 1\n",
    "    start = timer()\n",
    "    global predictions_all\n",
    "\n",
    "    \n",
    "    #train the XGBClassifier model on training data and test data is used as validation data with early stopping round set at 40\n",
    "    eval_set = [(X_test, y_test[:,2])]\n",
    "    xgbcl = xgb.XGBClassifier(colsample_bytree =  space['colsample_bytree'], gamma = space['gamma'], learning_rate = space['learning_rate'], max_depth = space['max_depth'], min_child_weight = space['min_child_weight'], n_estimators = space['n_estimators'], reg_alpha = space['reg_alpha'], scale_pos_weight = space['scale_pos_weight'], subsample = space['subsample'], tree_method = 'gpu_hist', sampling_method = 'gradient_based')\n",
    "    xgbcl.fit(X_train, y_train[:,2], early_stopping_rounds=40, eval_metric=\"error@0.55\", eval_set=eval_set)\n",
    "    #the trained model is used to predict on the test data\n",
    "    prediction = xgbcl.predict(X_test)\n",
    "    predictions_all = pd.concat([predictions_all, pd.DataFrame(prediction).rename(columns={0:ITERATION})], axis=1)\n",
    "    #obtain the accuracy and f1 score\n",
    "    acc = accuracy_score(y_test[:,2], prediction)\n",
    "    f1 = f1_score(y_test[:,2], prediction) \n",
    "\n",
    "    # log runtime\n",
    "    run_time = timer() - start\n",
    "\n",
    "    # calculate loss based on scoring method\n",
    "    loss = 1 - acc\n",
    "    \n",
    "    # export results to csv\n",
    "    out_file = results_file\n",
    "    with open(out_file, \"a\", newline=\"\") as file:\n",
    "        writer = csv.writer(file)\n",
    "        writer.writerow(\n",
    "            [\n",
    "                ITERATION,\n",
    "                loss,\n",
    "                acc,\n",
    "                f1,\n",
    "                run_time,\n",
    "                space\n",
    "            ]\n",
    "        )\n",
    "\n",
    "    return loss"
   ]
  },
  {
   "cell_type": "code",
   "execution_count": null,
   "metadata": {},
   "outputs": [],
   "source": [
    "#this is the hyperparameter search space for XGBoost Classifier\n",
    "space = { 'learning_rate': hp.uniform('learning_rate', 0.001, 0.050),\n",
    "'max_depth': hp.choice('max_depth', np.arange(4, 14, 1, dtype=int)),\n",
    "'min_child_weight': hp.choice('min_child_weight', np.arange(1, 20, 1, dtype = int)),\n",
    "'gamma': hp.uniform('gamma', 0.04, 0.4),\n",
    "'subsample': hp.uniform('subsample', 0.5, 1.0),\n",
    "'colsample_bytree': hp.uniform('colsample_bytree', 0.5, 1.0),\n",
    "'reg_alpha': hp.uniform('reg_alpha', 0.002 , 0.04),\n",
    "'n_estimators': hp.choice('n_estimators', np.arange(200, 500,1, dtype = int)),\n",
    "'scale_pos_weight': hp.choice('scale_pos_weight', np.arange(10, 50, 1, dtype=int)),\n",
    "'tree_method' :'gpu_hist',\n",
    "'sampling_method' : 'gradient_based'\n",
    "          }"
   ]
  },
  {
   "cell_type": "code",
   "execution_count": null,
   "metadata": {},
   "outputs": [],
   "source": [
    "#this line of codes initiates the bayesian optimisation procedure and I will set maximum iterations at 400\n",
    "ITERATION=0\n",
    "best = fmin(\n",
    "    fn=objective,\n",
    "    space=space,\n",
    "    algo=tpe.suggest,\n",
    "    max_evals=400,\n",
    "    trials=Trials(),\n",
    "    show_progressbar=True,\n",
    ")"
   ]
  },
  {
   "cell_type": "markdown",
   "metadata": {},
   "source": [
    "# 5. EVALUATION\n",
    "We will be evaluating our model using accuracy and F1 score for predictions made on test data. After performing bayesian optimization, we will select the top 3 models based on accuracy/F1 scores for forecast horizon of 1,3 and 5-days and we will answer the following question:\n",
    "\n",
    "## Question 3:\n",
    "To find out which forecast horizon (1 , 3 or 5 days) is more profitable for stock traders, we will be using accuracy and F1 scores. Therefore using accuracy and F1 score as evaluation metric, we would like to find which forecast horizon is more profitable for making trading decisions."
   ]
  },
  {
   "cell_type": "code",
   "execution_count": 34,
   "metadata": {},
   "outputs": [],
   "source": [
    "#The accuracy and F1 score for top 3 models for 1-day horizon\n",
    "Accuracy_1day = [0.572065379, 0.570579495, 0.560178306]\n",
    "F1_1day = [0.688984881, 0.704800817, 0.704]\n",
    "#Mean accuracy and F1 score for top 3 models for 1-day horizon\n",
    "Accuracy_1day_mean = sum(Accuracy_1day)/3\n",
    "F1_1day_mean = sum(F1_1day)/3\n",
    "\n",
    "#The accuracy and F1 score for top 3 models for 3-day horizon\n",
    "Accuracy_3day = [0.543833581, 0.539375929, 0.537890045]\n",
    "F1_3day = [0.699902248, 0.684317719, 0.696585366]\n",
    "#Mean accuracy and F1 score for top 3 models for 3-day horizon\n",
    "Accuracy_3day_mean = sum(Accuracy_3day)/3\n",
    "F1_3day_mean = sum(F1_3day)/3\n",
    "\n",
    "#The accuracy and F1 score for top 3 models for 5-day horizon\n",
    "Accuracy_5day = [0.548291233, 0.548291233, 0.545319465]\n",
    "F1_5day = [0.693548387, 0.700787402, 0.701171875]\n",
    "#Mean accuracy and F1 score for top 3 models for 5-day horizon\n",
    "Accuracy_5day_mean = sum(Accuracy_5day)/3\n",
    "F1_5day_mean = sum(F1_5day)/3"
   ]
  },
  {
   "cell_type": "markdown",
   "metadata": {},
   "source": [
    "## Findings\n",
    "We will tabulate the mean accuracy and F1 score for forecast horizon of 1, 3 and 5-days in table format. As can be seen, 1-day forecast horizon has the highest mean accuracy and also F1 score. Thus when stock traders initiates a trade, they should close their position after 1 day."
   ]
  },
  {
   "cell_type": "code",
   "execution_count": 35,
   "metadata": {},
   "outputs": [
    {
     "name": "stdout",
     "output_type": "stream",
     "text": [
      "               mean accuracy   mean F1\n",
      "1-day horizon       0.567608  0.699262\n",
      "3-day horizon       0.540367  0.693602\n",
      "5-day horizon       0.547301  0.698503\n"
     ]
    }
   ],
   "source": [
    "mean_accuracy = pd.DataFrame([Accuracy_1day_mean, Accuracy_3day_mean, Accuracy_5day_mean]).rename(columns={0:'mean accuracy'})\n",
    "mean_F1 = pd.DataFrame([F1_1day_mean, F1_3day_mean, F1_5day_mean]).rename(columns={0:'mean F1'})\n",
    "horizon = ['1-day horizon', '3-day horizon', '5-day horizon']\n",
    "table_score = pd.concat([mean_accuracy, mean_F1], axis = 1).set_index(np.array(horizon))\n",
    "\n",
    "print(table_score)"
   ]
  }
 ],
 "metadata": {
  "kernelspec": {
   "display_name": "Python 3",
   "language": "python",
   "name": "python3"
  },
  "language_info": {
   "codemirror_mode": {
    "name": "ipython",
    "version": 3
   },
   "file_extension": ".py",
   "mimetype": "text/x-python",
   "name": "python",
   "nbconvert_exporter": "python",
   "pygments_lexer": "ipython3",
   "version": "3.6.3"
  }
 },
 "nbformat": 4,
 "nbformat_minor": 2
}
